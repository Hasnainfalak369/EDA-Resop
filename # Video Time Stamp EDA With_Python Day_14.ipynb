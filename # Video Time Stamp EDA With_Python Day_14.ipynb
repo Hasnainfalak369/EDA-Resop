{
 "cells": [
  {
   "cell_type": "markdown",
   "metadata": {},
   "source": [
    "# Video Time Stamp EDA With_Python Day_14"
   ]
  },
  {
   "cell_type": "markdown",
   "metadata": {},
   "source": [
    "### 00:00:00 Introduction\n",
    "### 00:01:29 Create new juypter notebook\n",
    "### 00:02:00 importent things\n",
    "### 00:04:09 Save data in csv file\n",
    "### 00:09:01 Unique values \n",
    "### 00:09:45 colum names\n",
    "### 00:11:25 Assignment\n",
    "### 00:13:38 Cleaning and filtering data\n",
    "### 00:28:30 Out layer removel\n",
    "### 00:55:17 Future videos key points\n",
    "### 00:57:06 Log Transformation"
   ]
  },
  {
   "cell_type": "code",
   "execution_count": null,
   "metadata": {},
   "outputs": [],
   "source": []
  }
 ],
 "metadata": {
  "interpreter": {
   "hash": "6d46af94c2bbce495f1e668725902fa517c90b1782bcfe2fce0dd9868df553d3"
  },
  "kernelspec": {
   "display_name": "Python 3.9.7 64-bit ('base': conda)",
   "language": "python",
   "name": "python3"
  },
  "language_info": {
   "name": "python",
   "version": "3.9.7"
  },
  "orig_nbformat": 4
 },
 "nbformat": 4,
 "nbformat_minor": 2
}
