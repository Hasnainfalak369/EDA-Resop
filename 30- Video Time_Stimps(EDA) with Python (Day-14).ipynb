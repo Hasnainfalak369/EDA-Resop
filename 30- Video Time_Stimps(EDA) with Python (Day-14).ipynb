{
 "cells": [
  {
   "cell_type": "markdown",
   "metadata": {},
   "source": [
    "Video Time Stamp EDA With_Python Day_14"
   ]
  },
  {
   "cell_type": "markdown",
   "metadata": {},
   "source": [
    "### 00:00:00 Introduction\n",
    "### 00:01:29 Create new juypter notebook\n",
    "### 00:02:00 importent things\n",
    "### 00:04:09 Save data in csv file\n",
    "### 00:09:01 Unique values \n",
    "### 00:09:45 colum names\n",
    "### 00:13:38 Cleaning and filtering data\n",
    "### 00:28:30 Out layer removel\n",
    "### 00:55:17 Future videos key points\n",
    "### 00:57:06 Log Transformation"
   ]
  }
 ],
 "metadata": {
  "language_info": {
   "name": "python"
  },
  "orig_nbformat": 4
 },
 "nbformat": 4,
 "nbformat_minor": 2
}
